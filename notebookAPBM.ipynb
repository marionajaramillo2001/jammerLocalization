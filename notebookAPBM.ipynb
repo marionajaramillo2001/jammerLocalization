{
 "cells": [
  {
   "cell_type": "markdown",
   "metadata": {},
   "source": [
    "## Notebook options"
   ]
  },
  {
   "cell_type": "code",
   "execution_count": 11,
   "metadata": {},
   "outputs": [],
   "source": [
    "exploratoy_analysis_data = True\n",
    "wandb_run = False\n",
    "\n",
    "config = {\n",
    "    \"theta_init\": 'fix', # 'fix' or 'random' or 'max_loc' or 'None'\n",
    "    \"runs\": 1,\n",
    "    \"monte_carlo_runs\": 5,\n",
    "    \"betas\": True,\n",
    "    \"model_args\": {\n",
    "        'input_dim': 2, \n",
    "        'layer_wid': [500,1],\n",
    "        'nonlinearity': 'relu', \n",
    "        'gamma': 2, \n",
    "        'model_mode': 'both'\n",
    "        },\n",
    "    \"max_epochs\": 200,\n",
    "    \"batch_size\": 16,\n",
    "}\n",
    "    \n",
    "    \n",
    "    \n",
    "    "
   ]
  },
  {
   "cell_type": "markdown",
   "metadata": {},
   "source": [
    "### Imports, wandb and data paths"
   ]
  },
  {
   "cell_type": "code",
   "execution_count": null,
   "metadata": {},
   "outputs": [],
   "source": [
    "import torch\n",
    "import numpy as np\n",
    "import pandas as pd\n",
    "import os\n",
    "import torch.optim as optim\n",
    "from functools import partial\n",
    "import datetime as date\n",
    "import wandb\n",
    "from apbm.data_loader_APBM import data_process\n",
    "import random\n",
    "\n",
    "# random seed configurations\n",
    "seed_value = 0\n",
    "torch.manual_seed(seed_value)\n",
    "torch.cuda.manual_seed_all(seed_value)\n",
    "np.random.seed(seed_value)\n",
    "random.seed(seed_value)\n",
    "\n",
    "\n",
    "if wandb_run:\n",
    "    run = wandb.init(\n",
    "        project=\"APBM\",\n",
    "        config=config,\n",
    "    )\n",
    "    \n",
    "    %%wandb\n",
    "\n",
    "\n",
    "os.chdir(os.getcwd()) # set the current path as the working directory\n",
    "\n",
    "data_name = 'RT2'\n",
    "if data_name == 'RT2': # 100\n",
    "    path = 'datasets/dataPLANS/4.definitive/RT2/'\n",
    "elif data_name == 'PL2': # 10000\n",
    "    path = 'datasets/dataPLANS/4.definitive/PL2/'\n",
    "elif data_name == 'R11': # 100\n",
    "    path = 'datasets/dataPLANS/4.definitive/RT11/'\n",
    "elif data_name == 'PL11': # 10000\n",
    "    path = 'datasets/dataPLANS/4.definitive/PL11/'\n",
    "elif data_name == 'R12': # 10000\n",
    "    path = 'datasets/dataPLANS/4.definitive/RT12/'\n",
    "elif data_name == 'R13': # 10000\n",
    "    path = 'datasets/dataPLANS/4.definitive/RT13/'\n"
   ]
  },
  {
   "cell_type": "markdown",
   "metadata": {},
   "source": [
    "### Exploratory analysis data"
   ]
  },
  {
   "cell_type": "code",
   "execution_count": 7,
   "metadata": {},
   "outputs": [
    {
     "name": "stdout",
     "output_type": "stream",
     "text": [
      "Exploratory analysis of the data\n"
     ]
    }
   ],
   "source": [
    "if exploratoy_analysis_data:\n",
    "    print('Exploratory analysis of the data')"
   ]
  },
  {
   "cell_type": "markdown",
   "metadata": {},
   "source": [
    "### Model"
   ]
  },
  {
   "cell_type": "code",
   "execution_count": null,
   "metadata": {},
   "outputs": [],
   "source": [
    "optimizer_nn = partial(optim.Adam,lr=0.1,weight_decay=1e-5)\n",
    "optimizer_theta = partial(optim.Adam,lr=0.1, weight_decay=1e-5)\n",
    "\n",
    "\n",
    "loss_temp1 = 0\n",
    "loc_temp2 = 0"
   ]
  },
  {
   "cell_type": "code",
   "execution_count": 9,
   "metadata": {},
   "outputs": [],
   "source": [
    "if wandb_run:\n",
    "    run.finish()"
   ]
  }
 ],
 "metadata": {
  "kernelspec": {
   "display_name": "env0",
   "language": "python",
   "name": "python3"
  },
  "language_info": {
   "codemirror_mode": {
    "name": "ipython",
    "version": 3
   },
   "file_extension": ".py",
   "mimetype": "text/x-python",
   "name": "python",
   "nbconvert_exporter": "python",
   "pygments_lexer": "ipython3",
   "version": "3.12.5"
  }
 },
 "nbformat": 4,
 "nbformat_minor": 2
}
